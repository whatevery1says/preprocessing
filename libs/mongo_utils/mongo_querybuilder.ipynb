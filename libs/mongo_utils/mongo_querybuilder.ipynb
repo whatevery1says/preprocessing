{
 "cells": [
  {
   "cell_type": "markdown",
   "metadata": {},
   "source": [
    "# mongodb query building: NOTES\n",
    "\n",
    "MongoDB queries are extremely verbose in Python.\n",
    "\n",
    "They are presented either as nested dictionaries or,\n",
    "even more deeply nested SON objects (to preserve order).\n",
    "Resulting queries are hard to write and hard to read.\n",
    "\n",
    "## status\n",
    "\n",
    "After surveying the available builders and testing one,\n",
    "I was unsatisfied, so I drafter my own, MQuery (below).\n",
    "\n",
    "However, while working with it a came to the conclusion\n",
    "that string parsing might be a better approach. This\n",
    "led me to find PQL (link below) -- if I continued with\n",
    "this project, I would probably start by testing PQL.\n",
    "\n",
    "## survey\n",
    "\n",
    "### query builders\n",
    "\n",
    "For writing queries, on possibility is a builder. There are\n",
    "three options:\n",
    "\n",
    "- https://github.com/AureaRobotics (fork with Python2 -> Python3 fix)\n",
    "  clear, but doesn't implement comparison operators AND OR etc at all. \n",
    "- https://github.com/ziffusion/python-mongo-query \n",
    "  much better -- a bit strange, but INIT isn't required, and handles AND OR etc. correctly.\n",
    "  written for Python 2.\n",
    "- MQuery, written here, below\n",
    "\n",
    "### string parsers\n",
    "\n",
    "A string parser changes a DSL into a pymongo query object.\n",
    "(e.g. as strings written in the style of native python statements)\n",
    "\n",
    "-  PQL Python Query Language https://github.com/alonho/pql  \n",
    "   translates python expressions to MongoDB queries\n",
    "    \n",
    "```\n",
    ">>> import pql\n",
    ">>> pql.find(\"a > 1 and b == 'foo' or not c.d == False\")\n",
    "{'$or': [{'$and': [{'a': {'$gt': 1}}, {'b': 'foo'}]}, {'$not': {'c.d': False}}]}\n",
    "```\n"
   ]
  },
  {
   "cell_type": "markdown",
   "metadata": {},
   "source": [
    "## MQuery: a pymongo query builder"
   ]
  },
  {
   "cell_type": "code",
   "execution_count": 20,
   "metadata": {},
   "outputs": [],
   "source": [
    "import json\n",
    "import os\n",
    "import pprint\n",
    "from pymongo import MongoClient \n",
    "from pymongo.errors import DuplicateKeyError, InvalidDocument\n",
    "\n",
    "import sys\n",
    "sys.path.insert(0, '/home/jovyan/utils/preprocessing/')\n",
    "from libs.fuzzyhasher.fuzzyhasher import FuzzyHasher\n",
    "from libs.zipeditor.zipeditor import ZipEditor, zip_scanner, zip_scanner_excludedirs, ZipProcessor\n",
    "from we1s_utils.ziputils import BatchJSONUploader\n",
    "\n",
    "class MQuery:\n",
    "    \"\"\"\"\"\"\n",
    "    def __init__(self, query=''):\n",
    "        if not query:\n",
    "            self.query = {}\n",
    "        self.pp = pprint.PrettyPrinter(indent=4, compact=False)\n",
    "        \n",
    "    def _clause(self, key, val, compare='regex', logic='and', query=''):\n",
    "        logic = '$' + logic\n",
    "        if not query:\n",
    "            query = self.query\n",
    "        if type(val) in [list, tuple, set]:\n",
    "            query_list = []\n",
    "            for val_entry in val:\n",
    "                query_list.append({ key : { '$' + compare :'.*' + val_entry + '.*' } })\n",
    "            query.setdefault(logic, []).extend(query_list)\n",
    "        else:\n",
    "            query[key] = { '$' + compare :'.*' + val + '.*' }\n",
    "        return self\n",
    "    \n",
    "    def AND(self, key, val):\n",
    "        return self._clause(key, val, logic='and')\n",
    "\n",
    "    def NOR(self, key, val):\n",
    "        return self._clause(key, val, logic='nor')\n",
    "\n",
    "#     def NOT(self, key, val):\n",
    "#         return self._clause(key, val, logic='not')\n",
    "\n",
    "    def print(self):\n",
    "        self.pp.pprint(self.query)\n",
    "        return self\n",
    "\n",
    "    def OR(self, key, val):\n",
    "        return self._clause(key, val, logic='or')\n",
    "\n",
    "    def TOP(self, key, val):\n",
    "        if type(val) in [list, tuple, set]:\n",
    "            if len(val)==1:\n",
    "                val=val[0]\n",
    "                return self._clause(key, val, logic='and')\n",
    "            else:\n",
    "                raise ValueError(\"TOP takes one key:val\")\n",
    "        return self._clause(key, val)\n",
    "\n",
    "# {pub:  'Mail|Times',\n",
    "#  name: 'liberal'|'humanities'\n",
    "# (pub:(Mail|Times))\n",
    "# name:\n"
   ]
  },
  {
   "cell_type": "code",
   "execution_count": 21,
   "metadata": {},
   "outputs": [],
   "source": [
    "# connect with MongoDB URI:\n",
    "client = MongoClient('mongodb://mongo/')\n",
    "db = client['we1s']\n",
    "corpus = db['Corpus']\n"
   ]
  },
  {
   "cell_type": "markdown",
   "metadata": {},
   "source": [
    "## MQuery unit tests"
   ]
  },
  {
   "cell_type": "code",
   "execution_count": 38,
   "metadata": {},
   "outputs": [
    {
     "name": "stderr",
     "output_type": "stream",
     "text": [
      "test_TOP (__main__.MQueryInputs)\n",
      "Create and print a simple query builder ... ok\n",
      "test_TOP_implicit_and (__main__.MQueryInputs) ... ok\n",
      "test_staged (__main__.MQueryInputs) ... "
     ]
    },
    {
     "name": "stdout",
     "output_type": "stream",
     "text": [
      "{'name': {'$regex': '.*humanities.*'}}\n",
      "{'pub': {'$regex': '.*Times.*'}}\n",
      "{'name': {'$regex': '.*plural.*'}, 'pub': {'$regex': '.*Mail.*'}}\n",
      "{'name': {'$regex': '.*plural.*'}, 'pub': {'$regex': '.*Mail.*'}}\n",
      "{'pub': {'$regex': '.*Mail.*'}}\n",
      "{'pub': {'$regex': '.*Mail.*'}}\n",
      "{'name': {'$regex': '.*body.*'}}\n"
     ]
    },
    {
     "name": "stderr",
     "output_type": "stream",
     "text": [
      "ok\n",
      "\n",
      "----------------------------------------------------------------------\n",
      "Ran 3 tests in 0.015s\n",
      "\n",
      "OK\n"
     ]
    },
    {
     "data": {
      "text/plain": [
       "<unittest.runner.TextTestResult run=3 errors=0 failures=0>"
      ]
     },
     "execution_count": 38,
     "metadata": {},
     "output_type": "execute_result"
    }
   ],
   "source": [
    "import sys\n",
    "import unittest\n",
    "\n",
    "class MQueryInputs(unittest.TestCase):\n",
    "\n",
    "    def test_TOP(self):\n",
    "        \"\"\"Create and print a simple query builder\"\"\"\n",
    "        MQuery().TOP(key='name', val='humanities').print()\n",
    "\n",
    "    def test_staged(self):\n",
    "        # create a more complex querybuilder\n",
    "        qb = MQuery()\n",
    "        # call methods to add query criteria,\n",
    "        # then use the result query dict with mongodb:\n",
    "        # TOP takes a single required term\n",
    "        qb.TOP('name', 'body')        \n",
    "        # pretty-print the result\n",
    "        qb.print()\n",
    "\n",
    "    def test_TOP_implicit_and(self):\n",
    "        # Additional TOP keys may be added\n",
    "        # with additional calls -- they are implicitly AND requirements\n",
    "        # and all must be fulfilled by search results\n",
    "        qb = MQuery()\n",
    "        qb.TOP('pub', 'Times').print()\n",
    "        # These operations can be chained\n",
    "        qb = MQuery().TOP('name', 'plural').TOP('pub', 'Mail').print()\n",
    "        # However, changing the same TOP key replaces it:\n",
    "        qb.TOP('pub', 'Mail').print()\n",
    "        # ...so don't use qb.TOP to add multiple criteria for the same key\n",
    "        qb = MQuery().TOP('pub', 'Times').TOP('pub', 'Mail').print()\n",
    "        # oops! {'pub': {'$regex': '.*Mail.*'}}\n",
    "        qb = MQuery().TOP('pub', 'Times').TOP('pub', 'Mail').print()\n",
    "        # oops! {'pub': {'$regex': '.*Mail.*'}}\n",
    "\n",
    "    \n",
    "suite = unittest.TestLoader().loadTestsFromTestCase(MQueryInputs)\n",
    "unittest.TextTestRunner(verbosity=4,stream=sys.stderr).run(suite)"
   ]
  },
  {
   "cell_type": "code",
   "execution_count": 26,
   "metadata": {},
   "outputs": [
    {
     "name": "stdout",
     "output_type": "stream",
     "text": [
      "{'name': {'$regex': '.*body.*'}}\n",
      "qb result:\n",
      " None \n",
      "\n"
     ]
    }
   ],
   "source": [
    "# create a more complex querybuilder\n",
    "\n",
    "qb = MQuery()\n",
    "\n",
    "# call methods to add query criteria,\n",
    "# then use the result query dict with mongodb\n",
    "\n",
    "# TOP takes a single required term\n",
    "qb.TOP('name', 'body')\n",
    "\n",
    "# pretty-print the result\n",
    "qb.print()\n",
    "\n",
    "# use the query\n",
    "one_doc = corpus.find_one(qb.query, {'content':0})\n",
    "print('qb result:\\n', one_doc, '\\n')"
   ]
  },
  {
   "cell_type": "code",
   "execution_count": 27,
   "metadata": {},
   "outputs": [
    {
     "name": "stdout",
     "output_type": "stream",
     "text": [
      "{'name': {'$regex': '.*body.*'}, 'pub': {'$regex': '.*Times.*'}}\n",
      "{'name': {'$regex': '.*plural.*'}, 'pub': {'$regex': '.*Mail.*'}}\n",
      "{'name': {'$regex': '.*plural.*'}, 'pub': {'$regex': '.*Mail.*'}}\n",
      "{'pub': {'$regex': '.*Mail.*'}}\n",
      "{'pub': {'$regex': '.*Mail.*'}}\n"
     ]
    }
   ],
   "source": [
    "# Additional TOP keys may be added\n",
    "# with additional calls -- they are implicitly AND requirements\n",
    "# and all must be fulfilled by search results\n",
    "\n",
    "qb.TOP('pub', 'Times').print()\n",
    "\n",
    "# These operations can be chained\n",
    "\n",
    "qb = MQuery().TOP('name', 'plural').TOP('pub', 'Mail').print()\n",
    "\n",
    "# However, changing the same TOP key replaces it:\n",
    "\n",
    "qb.TOP('pub', 'Mail').print()\n",
    "\n",
    "# ...so don't use qb.TOP to add multiple criteria for the same key\n",
    "\n",
    "qb = MQuery().TOP('pub', 'Times').TOP('pub', 'Mail').print()\n",
    "# oops! {'pub': {'$regex': '.*Mail.*'}}\n",
    "\n",
    "qb = MQuery().TOP('pub', 'Times').TOP('pub', 'Mail').print()\n",
    "# oops! {'pub': {'$regex': '.*Mail.*'}}\n"
   ]
  },
  {
   "cell_type": "code",
   "execution_count": 28,
   "metadata": {},
   "outputs": [
    {
     "name": "stdout",
     "output_type": "stream",
     "text": [
      "{   '$and': [   {'name': {'$regex': '.*2016.*'}},\n",
      "                {'name': {'$regex': '.*humanities.*'}}]}\n",
      "{'name': {'$regex': '.*humanities.*'}}\n",
      "{'name': {'$regex': '.*humanities.*'}}\n"
     ]
    }
   ],
   "source": [
    "# use AND for multiple criteria on one key\n",
    "\n",
    "# it can take a list of terms\n",
    "\n",
    "qb = MQuery()\n",
    "qb.AND('name', ['2016', 'humanities'])\n",
    "qb.print()\n",
    "\n",
    "# AND can be built with multiple calls\n",
    "\n",
    "qb = MQuery()\n",
    "qb.AND('name', '2016')\n",
    "qb.AND('name', 'humanities')\n",
    "qb.print()\n",
    "\n",
    "# AND can also be chained\n",
    "\n",
    "qb = MQuery().AND('name', '2016').AND('name', 'humanities').print()\n",
    "\n",
    "# qb.OR( 'pub',  ['Mail', 'Times'])\n",
    "# qb.TOP('name', ['body']) # if not in a list, becomes a top-level term.\n",
    "\n",
    "# qb.AND('name', val=['humanities','liberal'])\n",
    "# qb.print()\n",
    "\n",
    "# note that the heirarchy of terms is stable,\n",
    "# but the printed order of individual terms may not relate to code order\n",
    "# -- prettyprint alphabetizes, but dicts are unordered."
   ]
  },
  {
   "cell_type": "code",
   "execution_count": 29,
   "metadata": {},
   "outputs": [
    {
     "name": "stdout",
     "output_type": "stream",
     "text": [
      "0\n",
      "0\n"
     ]
    }
   ],
   "source": [
    "# use queries to compare document counts\n",
    "count1  = corpus.count_documents(MQuery().AND('pub', val='Mail').query)\n",
    "count2 = corpus.count_documents(MQuery().AND('pub', val=['Times']).query)\n",
    "print(count1)\n",
    "print(count2)"
   ]
  },
  {
   "cell_type": "code",
   "execution_count": 30,
   "metadata": {},
   "outputs": [
    {
     "name": "stdout",
     "output_type": "stream",
     "text": [
      "0 {'pub': {'$regex': '.*Mail.*'}}\n",
      "0 {'pub': {'$regex': '.*Mail.*'}}\n",
      "0 {'pub': {'$regex': '.*Mail.*'}}\n",
      "0 {'$and': [{'pub': {'$regex': '.*Mail.*'}}]}\n"
     ]
    }
   ],
   "source": [
    "# pass an entry or a single entry list\n",
    "# -- different query form, same results\n",
    "\n",
    "query = MQuery().TOP('pub', val='Mail').query\n",
    "count = corpus.count_documents(query)\n",
    "print(count, query)\n",
    "query = MQuery().TOP('pub', val=['Mail']).query\n",
    "count = corpus.count_documents(query)\n",
    "print(count, query)\n",
    "query = MQuery().AND('pub', val='Mail').query\n",
    "count = corpus.count_documents(query)\n",
    "print(count, query)\n",
    "query = MQuery().AND('pub', val=['Mail']).query\n",
    "count = corpus.count_documents(query)\n",
    "print(count, query)"
   ]
  },
  {
   "cell_type": "code",
   "execution_count": 31,
   "metadata": {},
   "outputs": [
    {
     "name": "stdout",
     "output_type": "stream",
     "text": [
      "0 {'pub': {'$regex': '.*Mail.*'}}\n",
      "0 {'pub': {'$regex': '.*Times.*'}}\n",
      "0 {'$or': [{'pub': {'$regex': '.*Mail.*'}}]}\n",
      "0 {'$or': [{'pub': {'$regex': '.*Times.*'}}]}\n"
     ]
    }
   ],
   "source": [
    "query = MQuery().OR('pub', val='Mail').query\n",
    "count = corpus.count_documents(query)\n",
    "print(count, query)\n",
    "query = MQuery().OR('pub', val='Times').query\n",
    "count = corpus.count_documents(query)\n",
    "print(count, query)\n",
    "query = MQuery().OR('pub', val=['Mail']).query\n",
    "count = corpus.count_documents(query)\n",
    "print(count, query)\n",
    "query = MQuery().OR('pub', val=['Times']).query\n",
    "count = corpus.count_documents(query)\n",
    "print(count, query)"
   ]
  },
  {
   "cell_type": "code",
   "execution_count": 32,
   "metadata": {},
   "outputs": [
    {
     "name": "stdout",
     "output_type": "stream",
     "text": [
      "0 {'name': {'$regex': '.*liberal.*'}}\n",
      "0 {'name': {'$regex': '.*humanities.*'}}\n",
      "0 {'$and': [{'name': {'$regex': '.*liberal.*'}}, {'name': {'$regex': '.*humanities.*'}}]}\n",
      "0 {'$or': [{'name': {'$regex': '.*liberal.*'}}, {'name': {'$regex': '.*humanities.*'}}]}\n",
      "0 {'$and': [{'pub': {'$regex': '.*Mail.*'}}, {'pub': {'$regex': '.*Times.*'}}]}\n",
      "0 {'$or': [{'pub': {'$regex': '.*Mail.*'}}, {'pub': {'$regex': '.*Times.*'}}]}\n",
      "0 {'$and': [{'pub': {'$regex': '.*Mail.*'}}, {'pub': {'$regex': '.*Times.*'}}], '$or': [{'name': {'$regex': '.*liberal.*'}}, {'name': {'$regex': '.*humanities.*'}}]}\n",
      "0 {'$or': [{'pub': {'$regex': '.*Mail.*'}}, {'pub': {'$regex': '.*Times.*'}}], '$and': [{'name': {'$regex': '.*liberal.*'}}, {'name': {'$regex': '.*humanities.*'}}]}\n",
      "0 {'$or': [{'pub': {'$regex': '.*Mail.*'}}, {'pub': {'$regex': '.*Times.*'}}, {'name': {'$regex': '.*liberal.*'}}, {'name': {'$regex': '.*humanities.*'}}]}\n",
      "\n",
      "count: 0\n",
      "one article:\n",
      " None\n"
     ]
    }
   ],
   "source": [
    "# AND and OR\n",
    "\n",
    "# Look at individual counts\n",
    "\n",
    "query = MQuery().TOP('name', val='liberal').query\n",
    "count = corpus.count_documents(query)\n",
    "print(count, query)\n",
    "query = MQuery().TOP('name', val='humanities').query\n",
    "count = corpus.count_documents(query)\n",
    "print(count, query)\n",
    "\n",
    "# AND: document must have both\n",
    "\n",
    "query = MQuery().AND('name', val=['liberal', 'humanities']).query\n",
    "count = corpus.count_documents(query)\n",
    "print(count, query)\n",
    "\n",
    "# OR: document may have either\n",
    "\n",
    "query = MQuery().OR('name', val=['liberal', 'humanities']).query\n",
    "count = corpus.count_documents(query)\n",
    "print(count, query)\n",
    "\n",
    "# AND: document must have both\n",
    "\n",
    "query = MQuery().AND('pub', val=['Mail', 'Times']).query\n",
    "count = corpus.count_documents(query)\n",
    "print(count, query)\n",
    "\n",
    "# OR: document may have either\n",
    "\n",
    "query = MQuery().OR('pub', val=['Mail', 'Times']).query\n",
    "count = corpus.count_documents(query)\n",
    "print(count, query)\n",
    "\n",
    "# AND is restrictive, OR is inclusive.\n",
    "\n",
    "query = MQuery().AND('pub', val=['Mail', 'Times']).OR('name', val=['liberal', 'humanities']).query\n",
    "count = corpus.count_documents(query)\n",
    "print(count, query)\n",
    "query = MQuery().OR('pub', val=['Mail', 'Times']).AND('name', val=['liberal', 'humanities']).query\n",
    "count = corpus.count_documents(query)\n",
    "print(count, query)\n",
    "query = MQuery().OR('pub', val=['Mail', 'Times']).OR('name', val=['liberal', 'humanities']).query\n",
    "count = corpus.count_documents(query)\n",
    "print(count, query)\n",
    "\n",
    "# \n",
    "\n",
    "print(\"\\ncount:\", count)\n",
    "one_doc = corpus.find_one(query, {'content':0})\n",
    "print(\"one article:\\n\", one_doc)"
   ]
  },
  {
   "cell_type": "markdown",
   "metadata": {},
   "source": [
    "## MQuery API dev notes\n",
    "\n",
    "\n",
    "### query operators\n",
    "\n",
    "https://docs.mongodb.com/manual/reference/operator/query/\n",
    "\n",
    "The biggest thing for making MQuery more flexible would be passing through operators correctly.\n",
    "\n",
    "#### TO ADD\n",
    "\n",
    "```\n",
    "Comparison\n",
    "$eq\tMatches values that are equal to a specified value.\n",
    "$gt\tMatches values that are greater than a specified value.\n",
    "$gte\tMatches values that are greater than or equal to a specified value.\n",
    "$in\tMatches any of the values specified in an array.\n",
    "$lt\tMatches values that are less than a specified value.\n",
    "$lte\tMatches values that are less than or equal to a specified value.\n",
    "$ne\tMatches all values that are not equal to a specified value.\n",
    "$nin\tMatches none of the values specified in an array.\n",
    "\n",
    "Logical\n",
    "$and\tJoins query clauses with a logical AND returns all documents that match the conditions of both clauses.\n",
    "$not\tInverts the effect of a query expression and returns documents that do not match the query expression.\n",
    "$nor\tJoins query clauses with a logical NOR returns all documents that fail to match both clauses.\n",
    "$or\tJoins query clauses with a logical OR returns all documents that match the conditions of either clause.\n",
    "\n",
    "Element\n",
    "$exists\tMatches documents that have the specified field.\n",
    "\n",
    "Evaluation\n",
    "$regex\tSelects documents where values match a specified regular expression.\n",
    "$text\tPerforms text search.\n",
    "\n",
    "Array\n",
    "$all\tMatches arrays that contain all elements specified in the query.\n",
    "$elemMatch\tSelects documents if element in the array field matches all the specified $elemMatch conditions.\n",
    "```\n",
    "\n",
    "#### LOW PRIORITY API\n",
    "    \n",
    "```\n",
    "Element\n",
    "$type\tSelects documents if a field is of the specified type.\n",
    "\n",
    "Evaluation\n",
    "$expr\tAllows use of aggregation expressions within the query language.\n",
    "$jsonSchema\tValidate documents against the given JSON Schema.\n",
    "$mod\tPerforms a modulo operation on the value of a field and selects documents with a specified result.\n",
    "$where\tMatches documents that satisfy a JavaScript expression.\n",
    "\n",
    "Geospatial\n",
    "Name\tDescription\n",
    "$geoIntersects\tSelects geometries that intersect with a GeoJSON geometry. The 2dsphere index supports $geoIntersects.\n",
    "$geoWithin\tSelects geometries within a bounding GeoJSON geometry. The 2dsphere and 2d indexes support $geoWithin.\n",
    "$near\tReturns geospatial objects in proximity to a point. Requires a geospatial index. The 2dsphere and 2d indexes support $near.\n",
    "$nearSphere\tReturns geospatial objects in proximity to a point on a sphere. Requires a geospatial index. The 2dsphere and 2d indexes support $nearSphere.\n",
    "\n",
    "Array\n",
    "$size\tSelects documents if the array field is a specified size.\n",
    "\n",
    "Bitwise\n",
    "$bitsAllClear\tMatches numeric or binary values in which a set of bit positions all have a value of 0.\n",
    "$bitsAllSet\tMatches numeric or binary values in which a set of bit positions all have a value of 1.\n",
    "$bitsAnyClear\tMatches numeric or binary values in which any bit from a set of bit positions has a value of 0.\n",
    "$bitsAnySet\tMatches numeric or binary values in which any bit from a set of bit positions has a value of 1.\n",
    "\n",
    "Comments\n",
    "Name\tDescription\n",
    "$comment\tAdds a comment to a query predicate.\n",
    "Projection Operators\n",
    "Name\tDescription\n",
    "$\tProjects the first element in an array that matches the query condition.\n",
    "$elemMatch\tProjects the first element in an array that matches the specified $elemMatch condition.\n",
    "$meta\tProjects the document’s score assigned during $text operation.\n",
    "$slice\tLimits the number of elements projected from an array. Supports skip and limit slices.\n",
    "```"
   ]
  },
  {
   "cell_type": "markdown",
   "metadata": {},
   "source": [
    "format ideas\n",
    "\n",
    "```\n",
    "qb.OR(('pub', 'val'), ('pub', 'val'))\n",
    "\n",
    "{'or' : [('pub', 'val'), ('name', 'val')]}\n",
    "{'and' : [('pub', 'val'), ('name', 'val')]}\n",
    "{'or' : [('pub', '$eq', 'val'), ('name', 'val')]}\n",
    "{'and' : [('pub', 'val'), ('name', 'val')]}\n",
    "\n",
    "a = QB('key', 'val')\n",
    "b = QB('key2', '$eq', 'val')\n",
    "c = QB.AND(a, b)\n",
    "d = QB.OR(QB('key', 'val'), QB('key2', 'val'))\n",
    "e = QB.OR(('key', 'val'), ('key2', 'val'))\n",
    "\n",
    "mb.or()\n",
    "\n",
    "mb.q('pub', ['val1', 'val2'])\n",
    "mb.q('pub', '$eq', ['val1', 'val2'])\n",
    "```\n",
    "\n",
    "\n"
   ]
  }
 ],
 "metadata": {
  "kernelspec": {
   "display_name": "Python 3",
   "language": "python",
   "name": "python3"
  },
  "language_info": {
   "codemirror_mode": {
    "name": "ipython",
    "version": 3
   },
   "file_extension": ".py",
   "mimetype": "text/x-python",
   "name": "python",
   "nbconvert_exporter": "python",
   "pygments_lexer": "ipython3",
   "version": "3.6.8"
  }
 },
 "nbformat": 4,
 "nbformat_minor": 2
}
