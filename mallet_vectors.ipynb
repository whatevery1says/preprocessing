{
 "cells": [
  {
   "cell_type": "code",
   "execution_count": null,
   "metadata": {},
   "outputs": [],
   "source": [
    "import json\n",
    "import os\n",
    "\n",
    "def mallet_vectors(path_to_manifest, path_to_vectors_file):\n",
    "    \"\"\"Convert a dictionary bag of words to MALLET vectors format.\n",
    "    \n",
    "    Appends the result to a MALLET vectors file.\n",
    "    \n",
    "    Parameters:\n",
    "    - path_to_manifest: The path to the manifest containing the bag of words.\n",
    "    - path_to_vectors_file: The path to the vectors file to be fed to MALLET.\n",
    "    \n",
    "    \"\"\"\n",
    "    # Open the manifest file\n",
    "    with open(path_to_manifest, 'r', encoding='utf-8') as f:\n",
    "        bag_of_words = json.loads(f.read())['bag_of_words']\n",
    "    # Build a row containing the key-value pairs\n",
    "    row = index + ' ' + filename + ' '\n",
    "    for k, v in bow.items():\n",
    "        row += k.replace(' ', '_') + ':' + str(v) + ' '\n",
    "    # Append the row to the vectors file\n",
    "    with open(path_to_vectors_file, 'a', encoding='utf-8') as f:\n",
    "        f.write(row.strip() + '\\n')\n",
    "\n",
    "# Loop through a directory of manifests and call this on each one\n",
    "mallet_vectors(path_to_manifest, path_to_vectors_file)"
   ]
  }
 ],
 "metadata": {
  "kernelspec": {
   "display_name": "Python 3",
   "language": "python",
   "name": "python3"
  },
  "language_info": {
   "codemirror_mode": {
    "name": "ipython",
    "version": 3
   },
   "file_extension": ".py",
   "mimetype": "text/x-python",
   "name": "python",
   "nbconvert_exporter": "python",
   "pygments_lexer": "ipython3",
   "version": "3.7.1"
  }
 },
 "nbformat": 4,
 "nbformat_minor": 2
}
