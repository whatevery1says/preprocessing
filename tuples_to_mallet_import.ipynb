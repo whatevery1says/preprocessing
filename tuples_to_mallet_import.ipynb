{
 "cells": [
  {
   "cell_type": "code",
   "execution_count": 42,
   "metadata": {},
   "outputs": [
    {
     "name": "stdout",
     "output_type": "stream",
     "text": [
      "[[('accept', 1), ('allow', 1), ('also', 2), ('argue', 1), ('art', 1), ('awesome', 1), ('back', 1), ('bad', 1), ('benefit', 1), ('cherish', 1), ('colleague', 1), ('comment', 1), ('country', 1), ('culture', 1), ('day', 3), ('dialogue', 1), ('different', 1), ('discussion', 1), ('do', 2), ('endeavor', 1), ('environment', 1), ('even', 1), ('expect', 4), ('fairly', 1), ('fall', 1), ('field', 1), ('find', 1), ('finish', 1), ('folk', 1), ('force', 1), ('fund', 1), ('funding', 1), ('go', 1), ('good', 2), ('grad', 1), ('guess', 1), ('happen', 1), ('happy', 1), ('hard', 1), ('help', 1), ('honestly', 1), ('hour', 3), ('humanity', 1), ('implication', 1), ('important', 1), ('inconsistent', 1), ('industry', 1), ('inhumane', 1), ('lab', 1), ('labor', 1), ('less', 2), ('little', 1), ('loose', 1), ('make', 2), ('many', 1), ('master', 1), ('may', 3), ('miserable', 1), ('much', 2), ('number', 1), ('offer', 1), ('often', 1), ('opportunity', 2), ('original', 1), ('pay', 3), ('people', 1), ('phd', 1), ('player', 1), ('point', 1), ('position', 1), ('possible', 1), ('press', 1), ('pressure', 1), ('problem', 1), ('professional', 1), ('program', 2), ('project', 1), ('really', 1), ('relation', 1), ('reply', 1), ('research', 1), ('rise', 1), ('rpi', 1), ('science', 1), ('scientist', 1), ('second', 1), ('situation', 1), ('speak', 2), ('student', 2), ('subjective', 1), ('success', 2), ('sure', 1), ('surprised', 1), ('take', 1), ('teaching', 1), ('term', 1), ('thank', 1), ('thing', 1), ('think', 10), ('time', 2), ('type', 1), ('understand', 1), ('union', 2), ('unionize', 1), ('value', 3), ('view', 1), ('want', 2), ('well', 2), ('willing', 1), ('work', 7), ('worker', 1), ('would', 1)], [('accept', 1), ('allow', 1), ('also', 4), ('art', 1), ('back', 5), ('comment', 2), ('endeavor', 1), ('even', 3), ('expect', 2), ('fall', 1), ('field', 1), ('find', 4), ('finish', 2), ('go', 7), ('implication', 2), ('important', 2), ('less', 2), ('loose', 1), ('make', 2), ('many', 1), ('may', 3), ('people', 3), ('player', 1), ('position', 1), ('press', 1), ('really', 4), ('reply', 1), ('science', 2), ('second', 1), ('situation', 1), ('sure', 1), ('surprised', 2), ('take', 1), ('thank', 2), ('thing', 2), ('think', 2), ('time', 1), ('type', 1), ('understand', 2), ('want', 4), ('well', 1), ('willing', 2), ('would', 1), ('academically', 1), ('actually', 1), ('add', 1), ('address', 1), ('admiration', 1), ('admit', 1), ('adorable', 2), ('advance', 1), ('affection', 1), ('afraid', 1), ('age', 1), ('aggressive', 1), ('aggressively', 1), ('alternatively', 1), ('always', 1), ('ambiguous', 1), ('amount', 1), ('analytically', 1), ('answer', 2), ('apparent', 1), ('apparently', 1), ('appear', 1), ('approach', 1), ('arm', 1), ('ask', 12), ('aspect', 1), ('athlete', 1), ('attempt', 3), ('aware', 1), ('away', 1), ('awful', 2), ('awkward', 1), ('bandage', 1), ('base', 2), ('beautifully', 1), ('become', 3), ('believe', 1), ('birthday', 3), ('blatantly', 1), ('blindly', 1), ('blockade', 1), ('blocker', 1), ('blue', 1), ('body', 2), ('break', 1), ('brief', 2), ('butterfly', 1), ('calm', 1), ('care', 1), ('cast', 1), ('catch', 2), ('cause', 2), ('certain', 1), ('certainly', 1), ('change', 3), ('character', 1), ('chase', 1), ('child', 1), ('circle', 2), ('claim', 2), ('clear', 1), ('clearly', 1), ('clique', 1), ('close', 2), ('closeness', 1), ('closeup', 1), ('clutch', 1), ('cold', 1), ('come', 1), ('compare', 1), ('conclude', 1), ('confirm', 1), ('conflict', 2), ('confrontation', 1), ('confuse', 1), ('confused', 1), ('continue', 6), ('convenient', 2), ('convince', 1), ('could', 3), ('couple', 1), ('create', 2), ('cryptically', 1), ('curious', 1), ('curry', 1), ('cut', 1), ('date', 2), ('deal', 2), ('death', 1), ('default', 1), ('defensive', 1), ('deliver', 1), ('demand', 1), ('deny', 1), ('departure', 1), ('differ', 1), ('directly', 4), ('disinfect', 1), ('dispel', 1), ('distance', 1), ('doubt', 3), ('drag', 1), ('drive', 1), ('dual', 1), ('due', 1), ('early', 1), ('effect', 2), ('effectively', 1), ('emotionally', 1), ('emphasize', 2), ('end', 5), ('enjoy', 1), ('enpai', 1), ('enter', 1), ('episode', 6), ('equal', 1), ('especially', 1), ('event', 2), ('exactly', 1), ('expectation', 1), ('expense', 1), ('explain', 1), ('expository', 1), ('express', 1), ('eye', 3), ('failure', 1), ('far', 1), ('favor', 1), ('feel', 5), ('first', 1), ('firstly', 1), ('flush', 1), ('follow', 1), ('forth', 2), ('forward', 1), ('freeze', 1), ('friend', 1), ('full', 1), ('future', 5), ('gather', 1), ('germ', 1), ('get', 9), ('girl', 2), ('give', 3), ('goal', 1), ('greatly', 1), ('group', 1), ('hachiman', 35), ('halfway', 1), ('hand', 1), ('harsh', 1), ('haruno', 5), ('hat', 1), ('hayato', 31), ('head', 2), ('hearken', 1), ('high', 1), ('hint', 1), ('hope', 1), ('however', 2), ('humorously', 1), ('hurt', 1), ('hypothetical', 1), ('immediately', 1), ('implicit', 1), ('implicitly', 1), ('imply', 1), ('importance', 1), ('indicate', 1), ('inferior', 1), ('infirmary', 1), ('information', 3), ('injure', 1), ('insecurity', 1), ('insist', 2), ('instantly', 1), ('interesting', 1), ('interlude', 1), ('introduction', 1), ('iroha', 6), ('irritated', 1), ('issue', 1), ('jar', 1), ('joke', 1), ('keep', 4), ('knell', 1), ('knot', 1), ('know', 4), ('landscape', 1), ('language', 2), ('last', 2), ('later', 4), ('lean', 3), ('let', 1), ('level', 1), ('lie', 1), ('light', 1), ('like', 1), ('limp', 1), ('line', 3), ('litter', 1), ('long', 2), ('lose', 3), ('main', 1), ('major', 2), ('marathon', 2), ('mean', 2), ('meaningless', 1), ('meat', 1), ('member', 1), ('mention', 3), ('meta', 1), ('mind', 2), ('minor', 1), ('miura', 1), ('motive', 1), ('move', 1), ('need', 2), ('neglect', 1), ('note', 9), ('nothing', 1), ('obvious', 1), ('obviously', 1), ('odd', 1), ('officially', 1), ('op', 2), ('open', 2), ('other', 1), ('pair', 1), ('partner', 1), ('past', 1), ('pause', 1), ('perhaps', 4), ('personal', 1), ('perspective', 2), ('phrase', 1), ('physical', 1), ('pick', 1), ('plan', 6), ('play', 1), ('playfully', 1), ('plot', 3), ('possibly', 1), ('potential', 1), ('presumably', 3), ('presume', 1), ('pretend', 1), ('pretty', 2), ('previous', 1), ('primary', 1), ('proceed', 1), ('progress', 1), ('prompt', 1), ('propensity', 1), ('provide', 1), ('pry', 1), ('purpose', 1), ('push', 1), ('put', 1), ('question', 1), ('quo', 1), ('rank', 1), ('rather', 1), ('react', 1), ('read', 1), ('realize', 2), ('reason', 5), ('reasonable', 1), ('recruit', 1), ('refer', 1), ('refuse', 4), ('regard', 2), ('regardless', 2), ('regret', 1), ('reinforce', 1), ('relationship', 1), ('reluctantly', 1), ('remain', 1), ('represent', 1), ('request', 3), ('resolve', 1), ('respond', 5), ('response', 1), ('rest', 1), ('revelatory', 1), ('right', 3), ('room', 2), ('rumor', 5), ('runner', 1), ('saika', 3), ('say', 3), ('saying', 1), ('scene', 7), ('school', 1), ('secondly', 1), ('section', 1), ('see', 2), ('seed', 1), ('seem', 8), ('seemingly', 1), ('segue', 1), ('self', 1), ('send', 1), ('sense', 1), ('serious', 1), ('seriously', 1), ('serve', 1), ('set', 2), ('shackle', 1), ('shot', 1), ('side', 1), ('sleeve', 1), ('slight', 1), ('social', 3), ('someone', 1), ('something', 4), ('somewhat', 7), ('soon', 1), ('specific', 1), ('specifically', 3), ('speculate', 1), ('sport', 1), ('star', 1), ('start', 1), ('state', 2), ('station', 1), ('stay', 1), ('stop', 2), ('strategy', 2), ('strike', 1), ('strikingly', 1), ('strongly', 1), ('subplot', 1), ('sufficient', 1), ('survey', 1), ('tatus', 1), ('tend', 1), ('tennis', 1), ('test', 1), ('theme', 1), ('thorn', 1), ('thus', 2), ('tie', 1), ('timing', 1), ('tobe', 2), ('together', 1), ('tragedy', 1), ('transition', 1), ('trap', 1), ('treat', 1), ('true', 2), ('truth', 1), ('try', 5), ('ulterior', 1), ('ultimately', 2), ('unlikely', 1), ('unusual', 1), ('upset', 1), ('use', 1), ('usual', 1), ('victory', 1), ('wait', 1), ('walk', 1), ('way', 4), ('weakest', 1), ('wedge', 1), ('weird', 1), ('wherein', 3), ('woman', 2), ('wound', 1), ('yet', 2), ('yui', 6), ('yukino', 26), ('yukinon', 2), ('yumiko', 4)], [('also', 2), ('awesome', 1), ('day', 7), ('do', 1), ('even', 1), ('find', 2), ('go', 1), ('hard', 1), ('help', 1), ('hour', 2), ('humanity', 1), ('less', 2), ('loose', 1), ('make', 1), ('much', 1), ('possible', 2), ('research', 2), ('situation', 1), ('student', 1), ('sure', 1), ('take', 2), ('time', 5), ('work', 7), ('break', 1), ('create', 1), ('death', 1), ('differ', 1), ('drive', 1), ('end', 1), ('episode', 1), ('especially', 1), ('expectation', 1), ('feel', 1), ('first', 2), ('full', 1), ('get', 1), ('goal', 1), ('hand', 1), ('know', 1), ('lose', 2), ('mean', 1), ('obviously', 1), ('possibly', 1), ('read', 2), ('reason', 1), ('rest', 1), ('school', 2), ('test', 2), ('try', 3), ('account', 1), ('activity', 1), ('arise', 1), ('ass', 2), ('assignment', 1), ('balance', 1), ('basically', 1), ('book', 1), ('boundary', 1), ('chapter', 1), ('check', 1), ('class', 5), ('collaboration', 1), ('concert', 1), ('context', 1), ('dire', 1), ('drowning', 1), ('eat', 1), ('email', 1), ('enough', 1), ('etc', 1), ('exercise', 1), ('face', 1), ('family', 1), ('favorite', 1), ('finally', 1), ('focus', 1), ('forfeit', 1), ('free', 2), ('front', 1), ('game', 1), ('grading', 1), ('guarantee', 1), ('guilt', 1), ('gym', 1), ('hell', 1), ('hit', 1), ('home', 3), ('homework', 1), ('husband', 3), ('illness', 1), ('independent', 1), ('inevitably', 1), ('instead', 1), ('interact', 1), ('job', 1), ('kick', 1), ('least', 1), ('loading', 1), ('lot', 1), ('minimum', 1), ('minute', 1), ('month', 2), ('mood', 1), ('night', 1), ('office', 1), ('paper', 2), ('particular', 1), ('pass', 1), ('pet', 1), ('qualify', 1), ('random', 1), ('reading', 2), ('require', 1), ('rule', 1), ('semester', 3), ('shit', 1), ('show', 1), ('slightly', 1), ('sometimes', 1), ('spend', 5), ('squeeze', 1), ('still', 1), ('stuck', 1), ('study', 3), ('sunday', 2), ('super', 1), ('syllabus', 1), ('tae', 1), ('turn', 1), ('typically', 2), ('video', 1), ('week', 8), ('whenever', 2)], [('field', 2), ('find', 1), ('humanity', 1), ('may', 2), ('people', 3), ('professional', 1), ('really', 2), ('scientist', 4), ('situation', 1), ('student', 1), ('thing', 1), ('think', 4), ('actually', 1), ('friend', 1), ('group', 2), ('however', 1), ('know', 1), ('read', 1), ('reason', 2), ('refer', 1), ('say', 2), ('see', 4), ('seem', 1), ('social', 1), ('start', 1), ('theme', 1), ('try', 1), ('hit', 1), ('least', 1), ('show', 5), ('still', 1), ('actual', 1), ('anti', 1), ('appeal', 1), ('assume', 1), ('attract', 1), ('bang', 2), ('big', 2), ('bitterest', 1), ('call', 1), ('career', 1), ('college', 1), ('community', 1), ('dumb', 1), ('eminent', 1), ('emphatically', 1), ('everything', 1), ('hate', 4), ('humor', 1), ('inherently', 1), ('knowledgeable', 1), ('lack', 1), ('leonard', 1), ('lhc', 1), ('look', 1), ('mirror', 1), ('numerous', 1), ('one', 2), ('overlap', 1), ('penny', 1), ('personally', 1), ('physics', 1), ('plurality', 1), ('portray', 1), ('posit', 1), ('pre', 1), ('reddit', 3), ('redditor', 6), ('reflect', 1), ('run', 1), ('site', 1), ('skill', 1), ('small', 1), ('smart', 1), ('sophomore', 1), ('sore', 1), ('sound', 1), ('spot', 1), ('stem', 2), ('subset', 1), ('supremely', 1), ('surely', 2), ('theory', 2), ('though', 1), ('toss', 1), ('understandable', 1), ('vitriol', 1), ('wiki', 1), ('young', 1), ('zone', 1)], [('also', 2), ('art', 2), ('back', 1), ('country', 2), ('fund', 1), ('funding', 3), ('guess', 2), ('less', 2), ('make', 2), ('may', 2), ('original', 1), ('pay', 2), ('possible', 1), ('problem', 1), ('take', 5), ('time', 1), ('well', 3), ('would', 1), ('apparently', 1), ('ask', 1), ('away', 3), ('believe', 1), ('care', 1), ('close', 2), ('demand', 1), ('early', 1), ('effect', 1), ('effectively', 1), ('end', 1), ('enter', 1), ('far', 2), ('get', 1), ('high', 1), ('hope', 1), ('issue', 1), ('last', 1), ('lie', 1), ('member', 2), ('move', 4), ('need', 1), ('open', 1), ('push', 1), ('rather', 1), ('right', 1), ('seem', 3), ('someone', 1), ('something', 1), ('state', 1), ('stay', 1), ('stop', 5), ('wait', 2), ('woman', 4), ('class', 1), ('context', 1), ('enough', 1), ('family', 2), ('hell', 1), ('least', 1), ('minimum', 1), ('pass', 3), ('require', 1), ('spend', 3), ('still', 2), ('call', 3), ('community', 1), ('everything', 1), ('hate', 2), ('accord', 1), ('acknowledge', 1), ('act', 1), ('administration', 1), ('advise', 1), ('ago', 1), ('already', 2), ('amendment', 1), ('approve', 1), ('area', 1), ('bay', 1), ('bigote', 1), ('bill', 1), ('birth', 1), ('bitch', 1), ('block', 1), ('boost', 1), ('border', 1), ('budget', 4), ('bully', 1), ('cabinet', 2), ('campaign', 2), ('century', 1), ('certificate', 1), ('choice', 2), ('claus', 1), ('closing', 1), ('coal', 2), ('colloquially', 1), ('commerce', 1), ('commit', 2), ('company', 1), ('comply', 1), ('congress', 5), ('constitution', 1), ('constitutional', 1), ('control', 1), ('correct', 1), ('court', 1), ('coverage', 1), ('craptastic', 2), ('crime', 3), ('crisis', 1), ('cuba', 1), ('cuban', 1), ('dead', 1), ('decrease', 1), ('defense', 1), ('define', 1), ('destroyer', 1), ('dictator', 1), ('diminish', 1), ('disaster', 1), ('ditch', 1), ('double', 1), ('eliminate', 2), ('energy', 2), ('equality', 1), ('equivalency', 1), ('everyone', 1), ('executive', 1), ('exist', 1), ('fair', 2), ('feelgood', 1), ('few', 1), ('fire', 2), ('fix', 1), ('garland', 1), ('gdp', 2), ('gender', 1), ('gitmo', 1), ('golf', 1), ('gorsuch', 2), ('graduate', 1), ('great', 1), ('guantanamo', 1), ('hair', 1), ('harmful', 1), ('health', 3), ('healthcare', 2), ('hike', 1), ('hire', 2), ('historically', 1), ('house', 1), ('idea', 1), ('ignore', 1), ('implementation', 1), ('increase', 3), ('intact', 1), ('irony', 1), ('ivanka', 1), ('jump', 2), ('kennedy', 1), ('kenyan', 1), ('law', 2), ('leaving', 1), ('lgbtq', 1), ('listen', 1), ('lol', 2), ('majority', 1), ('man', 1), ('measure', 1), ('melania', 1), ('military', 3), ('misogynist', 1), ('missile', 1), ('money', 1), ('name', 1), ('nato', 1), ('naw', 1), ('never', 1), ('nomination', 1), ('obama', 4), ('occur', 1), ('offset', 1), ('old', 1), ('operate', 1), ('order', 1), ('pain', 1), ('paris', 1), ('payer', 1), ('personnel', 1), ('phoenix', 1), ('plant', 1), ('politic', 2), ('power', 1), ('prefer', 3), ('president', 3), ('privacy', 1), ('proposal', 1), ('prosecute', 1), ('protection', 1), ('punishment', 1), ('qualified', 3), ('quite', 1), ('raise', 1), ('rate', 1), ('recall', 2), ('release', 3), ('reliance', 1), ('rely', 1), ('remember', 1), ('renewable', 1), ('requirement', 1), ('resemble', 1), ('resource', 2), ('respect', 1), ('reverse', 3), ('rhetoric', 2), ('rich', 1), ('road', 1), ('schedule', 1), ('screw', 1), ('secret', 1), ('secure', 1), ('senate', 1), ('service', 1), ('sexist', 1), ('sham', 1), ('share', 1), ('sign', 1), ('single', 1), ('society', 1), ('southern', 1), ('spending', 2), ('st', 1), ('staff', 1), ('stance', 1), ('suggestion', 1), ('system', 1), ('talk', 1), ('tax', 1), ('taxis', 2), ('track', 1), ('trip', 2), ('trump', 1), ('tweet', 1), ('twice', 1), ('universal', 2), ('vacation', 1), ('veto', 1), ('wall', 2), ('wannabe', 1), ('white', 1), ('withdraw', 1), ('worthless', 2), ('write', 1), ('year', 1), ('zumwalt', 1)], [('different', 2), ('go', 2), ('help', 1), ('humanity', 1), ('lab', 6), ('may', 1), ('much', 1), ('pay', 1), ('student', 1), ('take', 1), ('time', 1), ('value', 1), ('want', 1), ('well', 2), ('work', 1), ('would', 1), ('ask', 1), ('change', 1), ('deliver', 1), ('expectation', 2), ('get', 3), ('question', 1), ('section', 1), ('try', 1), ('use', 1), ('assignment', 1), ('class', 2), ('job', 3), ('study', 1), ('college', 1), ('physics', 4), ('advice', 1), ('anybody', 1), ('apply', 1), ('assessment', 1), ('astronomy', 1), ('consistently', 1), ('coordinate', 1), ('coordinator', 1), ('correlate', 1), ('course', 2), ('data', 1), ('description', 1), ('exam', 2), ('example', 1), ('feedback', 1), ('grade', 1), ('hear', 1), ('inform', 1), ('mark', 7), ('online', 1), ('opinion', 1), ('optimize', 1), ('overall', 2), ('performance', 1), ('prepare', 1), ('probably', 1), ('raw', 1), ('relevant', 1), ('somebody', 1), ('standard', 1), ('subject', 1), ('submit', 1), ('suppose', 1), ('tas', 4), ('tell', 1), ('welcome', 1), ('worry', 1)], [('also', 1), ('field', 2), ('finish', 1), ('go', 4), ('make', 1), ('pay', 1), ('phd', 1), ('problem', 1), ('take', 1), ('thing', 2), ('time', 1), ('want', 3), ('well', 2), ('work', 2), ('clear', 1), ('could', 1), ('end', 5), ('enter', 2), ('get', 1), ('high', 1), ('issue', 1), ('later', 1), ('level', 1), ('main', 1), ('major', 3), ('minor', 1), ('pair', 1), ('pretty', 1), ('school', 6), ('try', 1), ('ultimately', 1), ('class', 1), ('job', 1), ('study', 1), ('career', 1), ('college', 1), ('one', 1), ('physics', 5), ('small', 1), ('company', 1), ('energy', 1), ('graduate', 4), ('hike', 1), ('implementation', 1), ('course', 4), ('example', 1), ('hear', 1), ('overall', 1), ('probably', 2), ('absurd', 1), ('adjust', 1), ('america', 1), ('analyst', 1), ('astrophysic', 1), ('average', 1), ('bachelor', 1), ('bs', 1), ('classmate', 1), ('completely', 1), ('consult', 1), ('consulting', 1), ('currently', 1), ('decide', 1), ('degree', 2), ('development', 1), ('direction', 2), ('drastic', 1), ('engineering', 1), ('entry', 1), ('everywhere', 1), ('exception', 1), ('firm', 1), ('gis', 1), ('goldman', 1), ('hybrid', 1), ('interested', 3), ('interview', 1), ('key', 1), ('large', 1), ('liberal_arts', 1), ('prevet', 1), ('private', 1), ('pursue', 1), ('resume', 1), ('role', 1), ('salary', 1), ('shotgun', 1), ('software', 3), ('solve', 1), ('split', 1), ('supplemental', 1), ('support', 1), ('teach', 1), ('teacher', 1), ('tech', 2), ('technical', 1), ('vet', 2)], [('awesome', 1), ('different', 1), ('do', 1), ('grad', 1), ('little', 1), ('much', 1), ('point', 1), ('program', 3), ('science', 2), ('take', 8), ('believe', 1), ('couple', 1), ('get', 2), ('know', 1), ('major', 1), ('minor', 2), ('regard', 1), ('remain', 1), ('say', 1), ('school', 1), ('try', 1), ('use', 1), ('class', 4), ('finally', 1), ('require', 1), ('shit', 1), ('sound', 1), ('theory', 2), ('already', 1), ('everyone', 1), ('graduate', 1), ('great', 1), ('idea', 1), ('system', 2), ('course', 7), ('example', 1), ('online', 1), ('engineering', 1), ('software', 1), ('advanced', 2), ('ai', 1), ('algebra', 1), ('algorithm', 3), ('alma', 1), ('analysis', 1), ('application', 1), ('assembly', 1), ('basic', 1), ('breath', 1), ('bullshit', 1), ('calculus', 1), ('combinatoric', 1), ('computation', 1), ('computational', 1), ('compute', 2), ('computer', 4), ('computing', 2), ('cover', 1), ('crash', 2), ('cs', 1), ('curriculum', 2), ('database', 1), ('datum', 2), ('design', 1), ('discount', 1), ('discrete', 3), ('elective', 6), ('else', 1), ('fancy', 1), ('forget', 1), ('freshman', 1), ('functional', 2), ('fundamental', 2), ('graph', 1), ('graphic', 1), ('highly', 1), ('historical', 1), ('html', 1), ('human', 1), ('humanitie', 1), ('immersion', 1), ('imperative', 1), ('include', 1), ('interaction', 1), ('intro', 1), ('linerar', 1), ('logic', 1), ('mater', 1), ('math', 5), ('matter', 1), ('method', 1), ('necessary', 1), ('network', 1), ('oop', 1), ('osu', 3), ('parallel', 2), ('part_time', 1), ('place', 1), ('principle', 1), ('principlea', 1), ('probability', 1), ('procedural', 1), ('programming', 3), ('python', 1), ('relate', 1), ('seq', 1), ('since', 1), ('stat', 1), ('structure', 3), ('stuff', 2), ('theoretical', 1), ('understanding', 1), ('vba', 1)], [('also', 1), ('art', 3), ('back', 1), ('go', 2), ('good', 2), ('happy', 1), ('industry', 2), ('make', 4), ('much', 1), ('people', 1), ('program', 1), ('really', 1), ('situation', 1), ('take', 1), ('type', 1), ('value', 1), ('want', 1), ('work', 1), ('afraid', 1), ('believe', 1), ('certain', 1), ('feel', 1), ('hat', 2), ('high', 1), ('know', 2), ('major', 2), ('plan', 2), ('question', 1), ('school', 3), ('seriously', 1), ('someone', 1), ('something', 1), ('specific', 1), ('start', 1), ('try', 2), ('basically', 1), ('class', 1), ('free', 1), ('job', 5), ('show', 1), ('career', 1), ('college', 2), ('look', 1), ('physics', 1), ('ago', 1), ('great', 1), ('money', 3), ('remember', 1), ('talk', 1), ('year', 3), ('advice', 1), ('tell', 3), ('currently', 1), ('large', 1), ('pursue', 2), ('technical', 1), ('matter', 2), ('arena', 1), ('business', 1), ('education', 1), ('entertainment', 1), ('ever', 1), ('everybody', 1), ('experience', 1), ('fail', 1), ('grow', 1), ('hobby', 1), ('lead', 1), ('leave', 1), ('love', 2), ('lucke', 1), ('minded', 1), ('option', 1), ('passion', 1), ('person', 1), ('pm', 1), ('pyrotechnic', 1), ('real', 1), ('recommend', 1), ('scale', 1), ('stunt', 1), ('summer', 1), ('switch', 1), ('theater', 2), ('tour', 1), ('touring', 1), ('viable', 1), ('wish', 2)], [('bad', 2), ('go', 1), ('good', 1), ('humanity', 1), ('make', 3), ('much', 1), ('often', 1), ('people', 1), ('point', 2), ('problem', 1), ('take', 1), ('thing', 3), ('think', 2), ('time', 1), ('add', 1), ('attempt', 1), ('believe', 1), ('could', 1), ('create', 1), ('especially', 1), ('exactly', 1), ('explain', 1), ('first', 1), ('get', 2), ('level', 1), ('move', 1), ('pick', 1), ('provide', 1), ('say', 1), ('seriously', 1), ('state', 1), ('try', 1), ('way', 2), ('enough', 1), ('favorite', 2), ('game', 7), ('least', 2), ('lot', 2), ('paper', 1), ('video', 2), ('actual', 1), ('appeal', 1), ('college', 1), ('hate', 1), ('lack', 1), ('pre', 1), ('theory', 1), ('though', 1), ('century', 1), ('everyone', 1), ('majority', 1), ('example', 3), ('opinion', 1), ('bullshit', 1), ('design', 2), ('forget', 1), ('graphic', 2), ('real', 2), ('accent', 2), ('accuse', 1), ('achieve', 1), ('aesthetic', 1), ('affect', 1), ('agree', 1), ('anyone', 1), ('anything', 1), ('assert', 1), ('british', 1), ('cherry', 1), ('combat', 1), ('comedy', 1), ('comparison', 1), ('connect', 1), ('counterpoint', 1), ('critic', 1), ('criticism', 1), ('criticize', 1), ('critique', 1), ('cute', 1), ('difficult', 1), ('ding', 3), ('dislike', 1), ('divide', 1), ('egoraptor', 1), ('empt', 1), ('enhance', 1), ('excellent', 1), ('exploration', 1), ('generally', 1), ('hail', 1), ('hardly', 1), ('hastily', 1), ('heat', 1), ('introduce', 1), ('learn', 1), ('lend', 1), ('link', 1), ('literary', 1), ('meaningful', 1), ('mistrustful', 1), ('mostly', 1), ('ocarina', 2), ('opposite', 1), ('otherwise', 1), ('padding', 1), ('post', 1), ('practice', 1), ('sequel', 1), ('sequelitis', 2), ('simply', 1), ('stand', 1), ('strange', 1), ('thesis', 1), ('unfairly', 1), ('usually', 1), ('weight', 1), ('word', 2), ('yell', 1), ('youtube', 1)]]\n"
     ]
    }
   ],
   "source": [
    "# Since I couldn't open the test notebook, I grabbed the word count\n",
    "# and put them in a JSON file. This cell just imports them as JSON\n",
    "# and then converts them into a list of lists, where each internal \n",
    "# list contains the list of tuples for a single doc. If you already\n",
    "# have this, you can start working with the next cell.\n",
    "import json\n",
    "import os\n",
    "path = 'count.json'\n",
    "all_doc_tuples = []\n",
    "with open(path, 'r') as f:\n",
    "    docs = json.loads(f.read())\n",
    "for doc in docs[0:10]: # Just use the first ten files for testing\n",
    "    doc_tuples = []\n",
    "    for fluff in doc:\n",
    "        for k, v in fluff.items():\n",
    "            doc_tuples.append((k, v))\n",
    "    all_doc_tuples.append(doc_tuples)\n",
    "print(all_doc_tuples)"
   ]
  },
  {
   "cell_type": "code",
   "execution_count": 38,
   "metadata": {},
   "outputs": [
    {
     "name": "stdout",
     "output_type": "stream",
     "text": [
      "accept:1 allow:1 also:2 argue:1 art:1 awesome:1 back:1 bad:1 benefit:1 cherish:1 colleague:1 comment:1 country:1 culture:1 day:3 dialogue:1 different:1 discussion:1 do:2 endeavor:1 environment:1 even:1 expect:4 fairly:1 fall:1 field:1 find:1 finish:1 folk:1 force:1 fund:1 funding:1 go:1 good:2 grad:1 guess:1 happen:1 happy:1 hard:1 help:1 honestly:1 hour:3 humanity:1 implication:1 important:1 inconsistent:1 industry:1 inhumane:1 lab:1 labor:1 less:2 little:1 loose:1 make:2 many:1 master:1 may:3 miserable:1 much:2 number:1 offer:1 often:1 opportunity:2 original:1 pay:3 people:1 phd:1 player:1 point:1 position:1 possible:1 press:1 pressure:1 problem:1 professional:1 program:2 project:1 really:1 relation:1 reply:1 research:1 rise:1 rpi:1 science:1 scientist:1 second:1 situation:1 speak:2 student:2 subjective:1 success:2 sure:1 surprised:1 take:1 teaching:1 term:1 thank:1 thing:1 think:10 time:2 type:1 understand:1 union:2 unionize:1 value:3 view:1 want:2 well:2 willing:1 work:7 worker:1 would:1\n",
      "accept:1 allow:1 also:4 art:1 back:5 comment:2 endeavor:1 even:3 expect:2 fall:1 field:1 find:4 finish:2 go:7 implication:2 important:2 less:2 loose:1 make:2 many:1 may:3 people:3 player:1 position:1 press:1 really:4 reply:1 science:2 second:1 situation:1 sure:1 surprised:2 take:1 thank:2 thing:2 think:2 time:1 type:1 understand:2 want:4 well:1 willing:2 would:1 academically:1 actually:1 add:1 address:1 admiration:1 admit:1 adorable:2 advance:1 affection:1 afraid:1 age:1 aggressive:1 aggressively:1 alternatively:1 always:1 ambiguous:1 amount:1 analytically:1 answer:2 apparent:1 apparently:1 appear:1 approach:1 arm:1 ask:12 aspect:1 athlete:1 attempt:3 aware:1 away:1 awful:2 awkward:1 bandage:1 base:2 beautifully:1 become:3 believe:1 birthday:3 blatantly:1 blindly:1 blockade:1 blocker:1 blue:1 body:2 break:1 brief:2 butterfly:1 calm:1 care:1 cast:1 catch:2 cause:2 certain:1 certainly:1 change:3 character:1 chase:1 child:1 circle:2 claim:2 clear:1 clearly:1 clique:1 close:2 closeness:1 closeup:1 clutch:1 cold:1 come:1 compare:1 conclude:1 confirm:1 conflict:2 confrontation:1 confuse:1 confused:1 continue:6 convenient:2 convince:1 could:3 couple:1 create:2 cryptically:1 curious:1 curry:1 cut:1 date:2 deal:2 death:1 default:1 defensive:1 deliver:1 demand:1 deny:1 departure:1 differ:1 directly:4 disinfect:1 dispel:1 distance:1 doubt:3 drag:1 drive:1 dual:1 due:1 early:1 effect:2 effectively:1 emotionally:1 emphasize:2 end:5 enjoy:1 enpai:1 enter:1 episode:6 equal:1 especially:1 event:2 exactly:1 expectation:1 expense:1 explain:1 expository:1 express:1 eye:3 failure:1 far:1 favor:1 feel:5 first:1 firstly:1 flush:1 follow:1 forth:2 forward:1 freeze:1 friend:1 full:1 future:5 gather:1 germ:1 get:9 girl:2 give:3 goal:1 greatly:1 group:1 hachiman:35 halfway:1 hand:1 harsh:1 haruno:5 hat:1 hayato:31 head:2 hearken:1 high:1 hint:1 hope:1 however:2 humorously:1 hurt:1 hypothetical:1 immediately:1 implicit:1 implicitly:1 imply:1 importance:1 indicate:1 inferior:1 infirmary:1 information:3 injure:1 insecurity:1 insist:2 instantly:1 interesting:1 interlude:1 introduction:1 iroha:6 irritated:1 issue:1 jar:1 joke:1 keep:4 knell:1 knot:1 know:4 landscape:1 language:2 last:2 later:4 lean:3 let:1 level:1 lie:1 light:1 like:1 limp:1 line:3 litter:1 long:2 lose:3 main:1 major:2 marathon:2 mean:2 meaningless:1 meat:1 member:1 mention:3 meta:1 mind:2 minor:1 miura:1 motive:1 move:1 need:2 neglect:1 note:9 nothing:1 obvious:1 obviously:1 odd:1 officially:1 op:2 open:2 other:1 pair:1 partner:1 past:1 pause:1 perhaps:4 personal:1 perspective:2 phrase:1 physical:1 pick:1 plan:6 play:1 playfully:1 plot:3 possibly:1 potential:1 presumably:3 presume:1 pretend:1 pretty:2 previous:1 primary:1 proceed:1 progress:1 prompt:1 propensity:1 provide:1 pry:1 purpose:1 push:1 put:1 question:1 quo:1 rank:1 rather:1 react:1 read:1 realize:2 reason:5 reasonable:1 recruit:1 refer:1 refuse:4 regard:2 regardless:2 regret:1 reinforce:1 relationship:1 reluctantly:1 remain:1 represent:1 request:3 resolve:1 respond:5 response:1 rest:1 revelatory:1 right:3 room:2 rumor:5 runner:1 saika:3 say:3 saying:1 scene:7 school:1 secondly:1 section:1 see:2 seed:1 seem:8 seemingly:1 segue:1 self:1 send:1 sense:1 serious:1 seriously:1 serve:1 set:2 shackle:1 shot:1 side:1 sleeve:1 slight:1 social:3 someone:1 something:4 somewhat:7 soon:1 specific:1 specifically:3 speculate:1 sport:1 star:1 start:1 state:2 station:1 stay:1 stop:2 strategy:2 strike:1 strikingly:1 strongly:1 subplot:1 sufficient:1 survey:1 tatus:1 tend:1 tennis:1 test:1 theme:1 thorn:1 thus:2 tie:1 timing:1 tobe:2 together:1 tragedy:1 transition:1 trap:1 treat:1 true:2 truth:1 try:5 ulterior:1 ultimately:2 unlikely:1 unusual:1 upset:1 use:1 usual:1 victory:1 wait:1 walk:1 way:4 weakest:1 wedge:1 weird:1 wherein:3 woman:2 wound:1 yet:2 yui:6 yukino:26 yukinon:2 yumiko:4\n",
      "also:2 awesome:1 day:7 do:1 even:1 find:2 go:1 hard:1 help:1 hour:2 humanity:1 less:2 loose:1 make:1 much:1 possible:2 research:2 situation:1 student:1 sure:1 take:2 time:5 work:7 break:1 create:1 death:1 differ:1 drive:1 end:1 episode:1 especially:1 expectation:1 feel:1 first:2 full:1 get:1 goal:1 hand:1 know:1 lose:2 mean:1 obviously:1 possibly:1 read:2 reason:1 rest:1 school:2 test:2 try:3 account:1 activity:1 arise:1 ass:2 assignment:1 balance:1 basically:1 book:1 boundary:1 chapter:1 check:1 class:5 collaboration:1 concert:1 context:1 dire:1 drowning:1 eat:1 email:1 enough:1 etc:1 exercise:1 face:1 family:1 favorite:1 finally:1 focus:1 forfeit:1 free:2 front:1 game:1 grading:1 guarantee:1 guilt:1 gym:1 hell:1 hit:1 home:3 homework:1 husband:3 illness:1 independent:1 inevitably:1 instead:1 interact:1 job:1 kick:1 least:1 loading:1 lot:1 minimum:1 minute:1 month:2 mood:1 night:1 office:1 paper:2 particular:1 pass:1 pet:1 qualify:1 random:1 reading:2 require:1 rule:1 semester:3 shit:1 show:1 slightly:1 sometimes:1 spend:5 squeeze:1 still:1 stuck:1 study:3 sunday:2 super:1 syllabus:1 tae:1 turn:1 typically:2 video:1 week:8 whenever:2\n",
      "field:2 find:1 humanity:1 may:2 people:3 professional:1 really:2 scientist:4 situation:1 student:1 thing:1 think:4 actually:1 friend:1 group:2 however:1 know:1 read:1 reason:2 refer:1 say:2 see:4 seem:1 social:1 start:1 theme:1 try:1 hit:1 least:1 show:5 still:1 actual:1 anti:1 appeal:1 assume:1 attract:1 bang:2 big:2 bitterest:1 call:1 career:1 college:1 community:1 dumb:1 eminent:1 emphatically:1 everything:1 hate:4 humor:1 inherently:1 knowledgeable:1 lack:1 leonard:1 lhc:1 look:1 mirror:1 numerous:1 one:2 overlap:1 penny:1 personally:1 physics:1 plurality:1 portray:1 posit:1 pre:1 reddit:3 redditor:6 reflect:1 run:1 site:1 skill:1 small:1 smart:1 sophomore:1 sore:1 sound:1 spot:1 stem:2 subset:1 supremely:1 surely:2 theory:2 though:1 toss:1 understandable:1 vitriol:1 wiki:1 young:1 zone:1\n",
      "also:2 art:2 back:1 country:2 fund:1 funding:3 guess:2 less:2 make:2 may:2 original:1 pay:2 possible:1 problem:1 take:5 time:1 well:3 would:1 apparently:1 ask:1 away:3 believe:1 care:1 close:2 demand:1 early:1 effect:1 effectively:1 end:1 enter:1 far:2 get:1 high:1 hope:1 issue:1 last:1 lie:1 member:2 move:4 need:1 open:1 push:1 rather:1 right:1 seem:3 someone:1 something:1 state:1 stay:1 stop:5 wait:2 woman:4 class:1 context:1 enough:1 family:2 hell:1 least:1 minimum:1 pass:3 require:1 spend:3 still:2 call:3 community:1 everything:1 hate:2 accord:1 acknowledge:1 act:1 administration:1 advise:1 ago:1 already:2 amendment:1 approve:1 area:1 bay:1 bigote:1 bill:1 birth:1 bitch:1 block:1 boost:1 border:1 budget:4 bully:1 cabinet:2 campaign:2 century:1 certificate:1 choice:2 claus:1 closing:1 coal:2 colloquially:1 commerce:1 commit:2 company:1 comply:1 congress:5 constitution:1 constitutional:1 control:1 correct:1 court:1 coverage:1 craptastic:2 crime:3 crisis:1 cuba:1 cuban:1 dead:1 decrease:1 defense:1 define:1 destroyer:1 dictator:1 diminish:1 disaster:1 ditch:1 double:1 eliminate:2 energy:2 equality:1 equivalency:1 everyone:1 executive:1 exist:1 fair:2 feelgood:1 few:1 fire:2 fix:1 garland:1 gdp:2 gender:1 gitmo:1 golf:1 gorsuch:2 graduate:1 great:1 guantanamo:1 hair:1 harmful:1 health:3 healthcare:2 hike:1 hire:2 historically:1 house:1 idea:1 ignore:1 implementation:1 increase:3 intact:1 irony:1 ivanka:1 jump:2 kennedy:1 kenyan:1 law:2 leaving:1 lgbtq:1 listen:1 lol:2 majority:1 man:1 measure:1 melania:1 military:3 misogynist:1 missile:1 money:1 name:1 nato:1 naw:1 never:1 nomination:1 obama:4 occur:1 offset:1 old:1 operate:1 order:1 pain:1 paris:1 payer:1 personnel:1 phoenix:1 plant:1 politic:2 power:1 prefer:3 president:3 privacy:1 proposal:1 prosecute:1 protection:1 punishment:1 qualified:3 quite:1 raise:1 rate:1 recall:2 release:3 reliance:1 rely:1 remember:1 renewable:1 requirement:1 resemble:1 resource:2 respect:1 reverse:3 rhetoric:2 rich:1 road:1 schedule:1 screw:1 secret:1 secure:1 senate:1 service:1 sexist:1 sham:1 share:1 sign:1 single:1 society:1 southern:1 spending:2 st:1 staff:1 stance:1 suggestion:1 system:1 talk:1 tax:1 taxis:2 track:1 trip:2 trump:1 tweet:1 twice:1 universal:2 vacation:1 veto:1 wall:2 wannabe:1 white:1 withdraw:1 worthless:2 write:1 year:1 zumwalt:1\n",
      "different:2 go:2 help:1 humanity:1 lab:6 may:1 much:1 pay:1 student:1 take:1 time:1 value:1 want:1 well:2 work:1 would:1 ask:1 change:1 deliver:1 expectation:2 get:3 question:1 section:1 try:1 use:1 assignment:1 class:2 job:3 study:1 college:1 physics:4 advice:1 anybody:1 apply:1 assessment:1 astronomy:1 consistently:1 coordinate:1 coordinator:1 correlate:1 course:2 data:1 description:1 exam:2 example:1 feedback:1 grade:1 hear:1 inform:1 mark:7 online:1 opinion:1 optimize:1 overall:2 performance:1 prepare:1 probably:1 raw:1 relevant:1 somebody:1 standard:1 subject:1 submit:1 suppose:1 tas:4 tell:1 welcome:1 worry:1\n",
      "also:1 field:2 finish:1 go:4 make:1 pay:1 phd:1 problem:1 take:1 thing:2 time:1 want:3 well:2 work:2 clear:1 could:1 end:5 enter:2 get:1 high:1 issue:1 later:1 level:1 main:1 major:3 minor:1 pair:1 pretty:1 school:6 try:1 ultimately:1 class:1 job:1 study:1 career:1 college:1 one:1 physics:5 small:1 company:1 energy:1 graduate:4 hike:1 implementation:1 course:4 example:1 hear:1 overall:1 probably:2 absurd:1 adjust:1 america:1 analyst:1 astrophysic:1 average:1 bachelor:1 bs:1 classmate:1 completely:1 consult:1 consulting:1 currently:1 decide:1 degree:2 development:1 direction:2 drastic:1 engineering:1 entry:1 everywhere:1 exception:1 firm:1 gis:1 goldman:1 hybrid:1 interested:3 interview:1 key:1 large:1 liberal_arts:1 prevet:1 private:1 pursue:1 resume:1 role:1 salary:1 shotgun:1 software:3 solve:1 split:1 supplemental:1 support:1 teach:1 teacher:1 tech:2 technical:1 vet:2\n",
      "awesome:1 different:1 do:1 grad:1 little:1 much:1 point:1 program:3 science:2 take:8 believe:1 couple:1 get:2 know:1 major:1 minor:2 regard:1 remain:1 say:1 school:1 try:1 use:1 class:4 finally:1 require:1 shit:1 sound:1 theory:2 already:1 everyone:1 graduate:1 great:1 idea:1 system:2 course:7 example:1 online:1 engineering:1 software:1 advanced:2 ai:1 algebra:1 algorithm:3 alma:1 analysis:1 application:1 assembly:1 basic:1 breath:1 bullshit:1 calculus:1 combinatoric:1 computation:1 computational:1 compute:2 computer:4 computing:2 cover:1 crash:2 cs:1 curriculum:2 database:1 datum:2 design:1 discount:1 discrete:3 elective:6 else:1 fancy:1 forget:1 freshman:1 functional:2 fundamental:2 graph:1 graphic:1 highly:1 historical:1 html:1 human:1 humanitie:1 immersion:1 imperative:1 include:1 interaction:1 intro:1 linerar:1 logic:1 mater:1 math:5 matter:1 method:1 necessary:1 network:1 oop:1 osu:3 parallel:2 part_time:1 place:1 principle:1 principlea:1 probability:1 procedural:1 programming:3 python:1 relate:1 seq:1 since:1 stat:1 structure:3 stuff:2 theoretical:1 understanding:1 vba:1\n",
      "also:1 art:3 back:1 go:2 good:2 happy:1 industry:2 make:4 much:1 people:1 program:1 really:1 situation:1 take:1 type:1 value:1 want:1 work:1 afraid:1 believe:1 certain:1 feel:1 hat:2 high:1 know:2 major:2 plan:2 question:1 school:3 seriously:1 someone:1 something:1 specific:1 start:1 try:2 basically:1 class:1 free:1 job:5 show:1 career:1 college:2 look:1 physics:1 ago:1 great:1 money:3 remember:1 talk:1 year:3 advice:1 tell:3 currently:1 large:1 pursue:2 technical:1 matter:2 arena:1 business:1 education:1 entertainment:1 ever:1 everybody:1 experience:1 fail:1 grow:1 hobby:1 lead:1 leave:1 love:2 lucke:1 minded:1 option:1 passion:1 person:1 pm:1 pyrotechnic:1 real:1 recommend:1 scale:1 stunt:1 summer:1 switch:1 theater:2 tour:1 touring:1 viable:1 wish:2\n",
      "bad:2 go:1 good:1 humanity:1 make:3 much:1 often:1 people:1 point:2 problem:1 take:1 thing:3 think:2 time:1 add:1 attempt:1 believe:1 could:1 create:1 especially:1 exactly:1 explain:1 first:1 get:2 level:1 move:1 pick:1 provide:1 say:1 seriously:1 state:1 try:1 way:2 enough:1 favorite:2 game:7 least:2 lot:2 paper:1 video:2 actual:1 appeal:1 college:1 hate:1 lack:1 pre:1 theory:1 though:1 century:1 everyone:1 majority:1 example:3 opinion:1 bullshit:1 design:2 forget:1 graphic:2 real:2 accent:2 accuse:1 achieve:1 aesthetic:1 affect:1 agree:1 anyone:1 anything:1 assert:1 british:1 cherry:1 combat:1 comedy:1 comparison:1 connect:1 counterpoint:1 critic:1 criticism:1 criticize:1 critique:1 cute:1 difficult:1 ding:3 dislike:1 divide:1 egoraptor:1 empt:1 enhance:1 excellent:1 exploration:1 generally:1 hail:1 hardly:1 hastily:1 heat:1 introduce:1 learn:1 lend:1 link:1 literary:1 meaningful:1 mistrustful:1 mostly:1 ocarina:2 opposite:1 otherwise:1 padding:1 post:1 practice:1 sequel:1 sequelitis:2 simply:1 stand:1 strange:1 thesis:1 unfairly:1 usually:1 weight:1 word:2 yell:1 youtube:1\n"
     ]
    }
   ],
   "source": [
    "# Now we try to get the lists of tuples into a list of doc row strings\n",
    "all_row_strings = []\n",
    "for doc in all_doc_tuples:\n",
    "    row_list = []\n",
    "    for item in doc:\n",
    "        row_list.append(item[0] + ':' + str(item[1]))\n",
    "    row_string = ' '.join(row_list)\n",
    "    all_row_strings.append(row_string)\n",
    "for row in all_row_strings:\n",
    "    print(row)"
   ]
  },
  {
   "cell_type": "code",
   "execution_count": 40,
   "metadata": {},
   "outputs": [
    {
     "data": {
      "text/html": [
       "<div>\n",
       "<style scoped>\n",
       "    .dataframe tbody tr th:only-of-type {\n",
       "        vertical-align: middle;\n",
       "    }\n",
       "\n",
       "    .dataframe tbody tr th {\n",
       "        vertical-align: top;\n",
       "    }\n",
       "\n",
       "    .dataframe thead th {\n",
       "        text-align: right;\n",
       "    }\n",
       "</style>\n",
       "<table border=\"1\" class=\"dataframe\">\n",
       "  <thead>\n",
       "    <tr style=\"text-align: right;\">\n",
       "      <th></th>\n",
       "      <th>Filenames</th>\n",
       "    </tr>\n",
       "  </thead>\n",
       "  <tbody>\n",
       "    <tr>\n",
       "      <th>0</th>\n",
       "      <td>file1.txt</td>\n",
       "    </tr>\n",
       "    <tr>\n",
       "      <th>1</th>\n",
       "      <td>file2.txt</td>\n",
       "    </tr>\n",
       "    <tr>\n",
       "      <th>2</th>\n",
       "      <td>file3.txt</td>\n",
       "    </tr>\n",
       "    <tr>\n",
       "      <th>3</th>\n",
       "      <td>file4.txt</td>\n",
       "    </tr>\n",
       "    <tr>\n",
       "      <th>4</th>\n",
       "      <td>file5.txt</td>\n",
       "    </tr>\n",
       "    <tr>\n",
       "      <th>5</th>\n",
       "      <td>file6.txt</td>\n",
       "    </tr>\n",
       "    <tr>\n",
       "      <th>6</th>\n",
       "      <td>file7.txt</td>\n",
       "    </tr>\n",
       "    <tr>\n",
       "      <th>7</th>\n",
       "      <td>file8.txt</td>\n",
       "    </tr>\n",
       "    <tr>\n",
       "      <th>8</th>\n",
       "      <td>file9.txt</td>\n",
       "    </tr>\n",
       "    <tr>\n",
       "      <th>9</th>\n",
       "      <td>file10.txt</td>\n",
       "    </tr>\n",
       "  </tbody>\n",
       "</table>\n",
       "</div>"
      ],
      "text/plain": [
       "    Filenames\n",
       "0   file1.txt\n",
       "1   file2.txt\n",
       "2   file3.txt\n",
       "3   file4.txt\n",
       "4   file5.txt\n",
       "5   file6.txt\n",
       "6   file7.txt\n",
       "7   file8.txt\n",
       "8   file9.txt\n",
       "9  file10.txt"
      ]
     },
     "execution_count": 40,
     "metadata": {},
     "output_type": "execute_result"
    }
   ],
   "source": [
    "# Next step -- create a dataframe\n",
    "import pandas as pd\n",
    "\n",
    "# We're going to make a fake dataframe here to which we'll append the row strings\n",
    "filenames = ['file1.txt', 'file2.txt', 'file3.txt', 'file4.txt', 'file5.txt', 'file6.txt', 'file7.txt', 'file8.txt', 'file9.txt', 'file10.txt', ]\n",
    "df = pd.DataFrame(filenames, columns=['Filenames'])\n",
    "df"
   ]
  },
  {
   "cell_type": "code",
   "execution_count": 41,
   "metadata": {},
   "outputs": [
    {
     "data": {
      "text/html": [
       "<div>\n",
       "<style scoped>\n",
       "    .dataframe tbody tr th:only-of-type {\n",
       "        vertical-align: middle;\n",
       "    }\n",
       "\n",
       "    .dataframe tbody tr th {\n",
       "        vertical-align: top;\n",
       "    }\n",
       "\n",
       "    .dataframe thead th {\n",
       "        text-align: right;\n",
       "    }\n",
       "</style>\n",
       "<table border=\"1\" class=\"dataframe\">\n",
       "  <thead>\n",
       "    <tr style=\"text-align: right;\">\n",
       "      <th></th>\n",
       "      <th>Filenames</th>\n",
       "      <th>word_counts</th>\n",
       "    </tr>\n",
       "  </thead>\n",
       "  <tbody>\n",
       "    <tr>\n",
       "      <th>0</th>\n",
       "      <td>file1.txt</td>\n",
       "      <td>accept:1 allow:1 also:2 argue:1 art:1 awesome:...</td>\n",
       "    </tr>\n",
       "    <tr>\n",
       "      <th>1</th>\n",
       "      <td>file2.txt</td>\n",
       "      <td>accept:1 allow:1 also:4 art:1 back:5 comment:2...</td>\n",
       "    </tr>\n",
       "    <tr>\n",
       "      <th>2</th>\n",
       "      <td>file3.txt</td>\n",
       "      <td>also:2 awesome:1 day:7 do:1 even:1 find:2 go:1...</td>\n",
       "    </tr>\n",
       "    <tr>\n",
       "      <th>3</th>\n",
       "      <td>file4.txt</td>\n",
       "      <td>field:2 find:1 humanity:1 may:2 people:3 profe...</td>\n",
       "    </tr>\n",
       "    <tr>\n",
       "      <th>4</th>\n",
       "      <td>file5.txt</td>\n",
       "      <td>also:2 art:2 back:1 country:2 fund:1 funding:3...</td>\n",
       "    </tr>\n",
       "    <tr>\n",
       "      <th>5</th>\n",
       "      <td>file6.txt</td>\n",
       "      <td>different:2 go:2 help:1 humanity:1 lab:6 may:1...</td>\n",
       "    </tr>\n",
       "    <tr>\n",
       "      <th>6</th>\n",
       "      <td>file7.txt</td>\n",
       "      <td>also:1 field:2 finish:1 go:4 make:1 pay:1 phd:...</td>\n",
       "    </tr>\n",
       "    <tr>\n",
       "      <th>7</th>\n",
       "      <td>file8.txt</td>\n",
       "      <td>awesome:1 different:1 do:1 grad:1 little:1 muc...</td>\n",
       "    </tr>\n",
       "    <tr>\n",
       "      <th>8</th>\n",
       "      <td>file9.txt</td>\n",
       "      <td>also:1 art:3 back:1 go:2 good:2 happy:1 indust...</td>\n",
       "    </tr>\n",
       "    <tr>\n",
       "      <th>9</th>\n",
       "      <td>file10.txt</td>\n",
       "      <td>bad:2 go:1 good:1 humanity:1 make:3 much:1 oft...</td>\n",
       "    </tr>\n",
       "  </tbody>\n",
       "</table>\n",
       "</div>"
      ],
      "text/plain": [
       "    Filenames                                        word_counts\n",
       "0   file1.txt  accept:1 allow:1 also:2 argue:1 art:1 awesome:...\n",
       "1   file2.txt  accept:1 allow:1 also:4 art:1 back:5 comment:2...\n",
       "2   file3.txt  also:2 awesome:1 day:7 do:1 even:1 find:2 go:1...\n",
       "3   file4.txt  field:2 find:1 humanity:1 may:2 people:3 profe...\n",
       "4   file5.txt  also:2 art:2 back:1 country:2 fund:1 funding:3...\n",
       "5   file6.txt  different:2 go:2 help:1 humanity:1 lab:6 may:1...\n",
       "6   file7.txt  also:1 field:2 finish:1 go:4 make:1 pay:1 phd:...\n",
       "7   file8.txt  awesome:1 different:1 do:1 grad:1 little:1 muc...\n",
       "8   file9.txt  also:1 art:3 back:1 go:2 good:2 happy:1 indust...\n",
       "9  file10.txt  bad:2 go:1 good:1 humanity:1 make:3 much:1 oft..."
      ]
     },
     "execution_count": 41,
     "metadata": {},
     "output_type": "execute_result"
    }
   ],
   "source": [
    "# Append the word counts\n",
    "df['word_counts'] = all_row_strings\n",
    "df"
   ]
  },
  {
   "cell_type": "code",
   "execution_count": 53,
   "metadata": {},
   "outputs": [],
   "source": [
    "# Save it to a file\n",
    "import csv\n",
    "df.to_csv('import_to_mallet.txt', sep=' ', index=True, header=False, quoting=csv.QUOTE_NONE, escapechar=' ')"
   ]
  },
  {
   "cell_type": "code",
   "execution_count": null,
   "metadata": {},
   "outputs": [],
   "source": []
  }
 ],
 "metadata": {
  "kernelspec": {
   "display_name": "Python 3",
   "language": "python",
   "name": "python3"
  },
  "language_info": {
   "codemirror_mode": {
    "name": "ipython",
    "version": 3
   },
   "file_extension": ".py",
   "mimetype": "text/x-python",
   "name": "python",
   "nbconvert_exporter": "python",
   "pygments_lexer": "ipython3",
   "version": "3.7.1"
  }
 },
 "nbformat": 4,
 "nbformat_minor": 2
}
